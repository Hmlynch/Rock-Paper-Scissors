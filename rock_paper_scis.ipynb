{
 "cells": [
  {
   "cell_type": "markdown",
   "metadata": {},
   "source": [
    "For this project, you will individually create a program that has a \"player\" and a \"computer\" advisary. The computer should randomly choose it's decision based on a list of actions it can take (\"Rock\", \"Paper\" or \"Scissors\"). The player should then have a chance to input their decision. If player and computer choose the same decision then display (\"Game Tied\"), If the player chooses \"Rock\" and the computer chooses \"Paper\" display (\"You lose\"), if the player chooses \"Scissors\" and the computer chooses \"Rock\" display (\"You Lose\") and if the player chooses \"Paper\" and the computer chooses \"Scissors\" then display (\"You lose\") -- Vice versa for other descisions.\n",
    "\n",
    "Continue to ask the player for their input until they say \"I quit\", at which time the game will then end and display (\"Thank you for playing\").\n",
    "\n",
    "In this project, you will need to use the random.randint function to enable to computer to make a random decision. Full documentation on the use of this function is attached in a link to this assignment.\n",
    "\n",
    "Once completed, commit your code to github and submit the link to this assignment."
   ]
  },
  {
   "cell_type": "code",
   "execution_count": 8,
   "metadata": {},
   "outputs": [],
   "source": [
    "from random import randint\n",
    "\n",
    "class Rock_Paper_Scissors():\n",
    "    def __init__(self): # the init method is called every time an object is created from a class.\n",
    "        self.choices = [\"Rock\", \"Paper\", \"Scissors\"]\n",
    "        self.player_wins = 0\n",
    "        self.computer_wins = 0\n",
    "\n",
    "    def player_move(self):\n",
    "        pass\n",
    "\n",
    "    def computer_move(self):\n",
    "        pass\n",
    "\n",
    "    def who_wins(self):\n",
    "        pass\n",
    "\n",
    "    def play_game(self):\n",
    "        pass\n",
    "\n",
    "    def main_driver(self):\n",
    "        self.player_move()\n",
    "                \n",
    "\n",
    "\n",
    "if __name__ == '__main__':\n",
    "    play = Rock_Paper_Scissors()\n",
    "    play.main_driver()\n"
   ]
  }
 ],
 "metadata": {
  "kernelspec": {
   "display_name": "Python 3.9.7 64-bit",
   "language": "python",
   "name": "python3"
  },
  "language_info": {
   "codemirror_mode": {
    "name": "ipython",
    "version": 3
   },
   "file_extension": ".py",
   "mimetype": "text/x-python",
   "name": "python",
   "nbconvert_exporter": "python",
   "pygments_lexer": "ipython3",
   "version": "3.9.7"
  },
  "orig_nbformat": 4,
  "vscode": {
   "interpreter": {
    "hash": "aee8b7b246df8f9039afb4144a1f6fd8d2ca17a180786b69acc140d282b71a49"
   }
  }
 },
 "nbformat": 4,
 "nbformat_minor": 2
}
